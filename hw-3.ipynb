{
 "cells": [
  {
   "cell_type": "code",
   "execution_count": 14,
   "metadata": {},
   "outputs": [],
   "source": [
    "%matplotlib inline\n",
    "import numpy as np\n",
    "import matplotlib.pyplot as plt"
   ]
  },
  {
   "cell_type": "code",
   "execution_count": 15,
   "metadata": {},
   "outputs": [],
   "source": [
    "def function_for_root(x):\n",
    "    a = 1.01\n",
    "    b = -3.04\n",
    "    c = 2.07\n",
    "    return a*(x**2) + b*x + c"
   ]
  },
  {
   "cell_type": "code",
   "execution_count": 16,
   "metadata": {},
   "outputs": [],
   "source": [
    "def derivative_for_root(x):\n",
    "    a = 1.01\n",
    "    b = -3.03\n",
    "    return 2*a*x + b"
   ]
  },
  {
   "cell_type": "code",
   "execution_count": 17,
   "metadata": {},
   "outputs": [],
   "source": [
    "def newton_raphson_root_finding(f, dfdx, x_start, tol):\n",
    "    \n",
    "    flag = 1\n",
    "    \n",
    "    imax = 10000\n",
    "    \n",
    "    i = 0\n",
    "    \n",
    "    x_old = x_start\n",
    "    x_new = 0.0\n",
    "    y_new = 0.0\n",
    "    \n",
    "    while(flag):\n",
    "        \n",
    "        x_new = x_old - f(x_old)/dfdx(x_old)\n",
    "        \n",
    "        print(x_new,x_old,f(x_old),dfdx(x_old))\n",
    "        \n",
    "        y_new = f(x_new)\n",
    "        if(np.fabs(y_new)<tol):\n",
    "            flag = 0\n",
    "        else:\n",
    "            x_old = x_new\n",
    "            \n",
    "            i += 1\n",
    "            \n",
    "        if (i>=imax):\n",
    "            print(\"Max number of iterations reached.\")\n",
    "            raise StopIteration('Stopping iteratiions after', i)\n",
    "    return x_new"
   ]
  },
  {
   "cell_type": "code",
   "execution_count": 21,
   "metadata": {},
   "outputs": [
    {
     "name": "stdout",
     "output_type": "stream",
     "text": [
      "0.5 0.8024999999999998\n",
      "0.8972772277227723 0.5 0.8024999999999998 -2.0199999999999996\n",
      "1.0249443450505213 0.8972772277227723 0.15543471534653452 -1.2174999999999998\n",
      "1.04076866144956 1.0249443450505213 0.015185210601967647 -0.9596124229979468\n",
      "1.0408707152312138 1.04076866144956 9.466991540119096e-05 -0.9276473038718889\n",
      "1.0408696261931798 1.0408707152312138 -1.010018692237935e-06 -0.9274411552329478\n",
      "Root not found with y(1.040870) = 0.000000\n"
     ]
    },
    {
     "ename": "NameError",
     "evalue": "name 'imax' is not defined",
     "output_type": "error",
     "traceback": [
      "\u001b[0;31m---------------------------------------------------------------------------\u001b[0m",
      "\u001b[0;31mNameError\u001b[0m                                 Traceback (most recent call last)",
      "\u001b[0;32m<ipython-input-21-09fe441edf3c>\u001b[0m in \u001b[0;36m<module>\u001b[0;34m()\u001b[0m\n\u001b[1;32m      9\u001b[0m \u001b[0ms\u001b[0m \u001b[0;34m=\u001b[0m \u001b[0;34m\"Root not found with y(%f) = %f\"\u001b[0m \u001b[0;34m%\u001b[0m \u001b[0;34m(\u001b[0m\u001b[0mx_root\u001b[0m\u001b[0;34m,\u001b[0m\u001b[0my_root\u001b[0m\u001b[0;34m)\u001b[0m\u001b[0;34m\u001b[0m\u001b[0m\n\u001b[1;32m     10\u001b[0m \u001b[0mprint\u001b[0m\u001b[0;34m(\u001b[0m\u001b[0ms\u001b[0m\u001b[0;34m)\u001b[0m\u001b[0;34m\u001b[0m\u001b[0m\n\u001b[0;32m---> 11\u001b[0;31m \u001b[0mprint\u001b[0m\u001b[0;34m(\u001b[0m\u001b[0mimax\u001b[0m\u001b[0;34m)\u001b[0m\u001b[0;34m\u001b[0m\u001b[0m\n\u001b[0m",
      "\u001b[0;31mNameError\u001b[0m: name 'imax' is not defined"
     ]
    }
   ],
   "source": [
    "x_start = 0.5\n",
    "tolerance = 1.0e-6\n",
    "\n",
    "print(x_start, function_for_root(x_start))\n",
    "\n",
    "x_root = newton_raphson_root_finding(function_for_root, derivative_for_root, x_start,tolerance)\n",
    "y_root = function_for_root(x_root)\n",
    "\n",
    "s = \"Root not found with y(%f) = %f\" % (x_root,y_root)\n",
    "print(s)\n"
   ]
  },
  {
   "cell_type": "code",
   "execution_count": null,
   "metadata": {},
   "outputs": [],
   "source": []
  }
 ],
 "metadata": {
  "kernelspec": {
   "display_name": "Python 3",
   "language": "python",
   "name": "python3"
  },
  "language_info": {
   "codemirror_mode": {
    "name": "ipython",
    "version": 3
   },
   "file_extension": ".py",
   "mimetype": "text/x-python",
   "name": "python",
   "nbconvert_exporter": "python",
   "pygments_lexer": "ipython3",
   "version": "3.6.5"
  }
 },
 "nbformat": 4,
 "nbformat_minor": 2
}
